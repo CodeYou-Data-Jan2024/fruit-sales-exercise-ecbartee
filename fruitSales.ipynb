{
 "cells": [
  {
   "cell_type": "code",
   "execution_count": 6,
   "id": "841dd04f-8c06-4303-a490-f6afcbceeacb",
   "metadata": {},
   "outputs": [
    {
     "name": "stdout",
     "output_type": "stream",
     "text": [
      "Module imported\n",
      "DataFrame values set\n",
      "DataFrame exported\n"
     ]
    }
   ],
   "source": [
    "# Import needed modules\n",
    "import pandas as pd\n",
    "print(\"Module imported\")\n",
    "\n",
    "# Create dataframe\n",
    "df = pd.DataFrame({'Apples': [35,41], 'Bananas': [21,34]}, index=['2017 Sales','2018 Sales'])\n",
    "print(\"DataFrame values set\")\n",
    "\n",
    "# Export DataFrame to CSV\n",
    "df.to_csv(r'C:\\Users\\emily.bartee\\Documents\\Projects\\FruitSales\\fruit-sales-exercise-ecbartee\\fruit.csv')\n",
    "print(\"DataFrame exported\")"
   ]
  },
  {
   "cell_type": "code",
   "execution_count": null,
   "id": "494034bf-46d8-4222-b86d-f8d9fc34eb00",
   "metadata": {},
   "outputs": [],
   "source": []
  }
 ],
 "metadata": {
  "kernelspec": {
   "display_name": "Python 3 (ipykernel)",
   "language": "python",
   "name": "python3"
  },
  "language_info": {
   "codemirror_mode": {
    "name": "ipython",
    "version": 3
   },
   "file_extension": ".py",
   "mimetype": "text/x-python",
   "name": "python",
   "nbconvert_exporter": "python",
   "pygments_lexer": "ipython3",
   "version": "3.11.8"
  }
 },
 "nbformat": 4,
 "nbformat_minor": 5
}
